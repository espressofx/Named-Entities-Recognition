{
 "cells": [
  {
   "cell_type": "code",
   "execution_count": 20,
   "metadata": {},
   "outputs": [
    {
     "name": "stdout",
     "output_type": "stream",
     "text": [
      "[nltk_data] Downloading package conll2002 to /home/s2-rex/nltk_data...\n",
      "[nltk_data]   Package conll2002 is already up-to-date!\n",
      "['esp.testa', 'esp.testb', 'esp.train', 'ned.testa', 'ned.testb', 'ned.train']\n"
     ]
    }
   ],
   "source": [
    "import nltk\n",
    "\n",
    "nltk.download('conll2002')\n",
    "print(nltk.corpus.conll2002.fileids())"
   ]
  },
  {
   "cell_type": "code",
   "execution_count": 17,
   "metadata": {},
   "outputs": [
    {
     "name": "stdout",
     "output_type": "stream",
     "text": [
      "[[('La', 'DA', 'B-LOC'), ('Coruña', 'NC', 'I-LOC'), (',', 'Fc', 'O'), ('23', 'Z', 'O'), ('may', 'NC', 'O'), ('(', 'Fpa', 'O'), ('EFECOM', 'NP', 'B-ORG'), (')', 'Fpt', 'O'), ('.', 'Fp', 'O')], [('-', 'Fg', 'O')], [('Las', 'DA', 'O'), ('reservas', 'NC', 'O'), ('\"', 'Fe', 'O'), ('on', 'NC', 'O'), ('line', 'AQ', 'O'), ('\"', 'Fe', 'O'), ('de', 'SP', 'O'), ('billetes', 'NC', 'O'), ('aéreos', 'AQ', 'O'), ('a', 'SP', 'O'), ('través', 'NC', 'O'), ('de', 'SP', 'O'), ('Internet', 'NC', 'B-MISC'), ('aumentaron', 'VMI', 'O'), ('en', 'SP', 'O'), ('España', 'VMN', 'B-LOC'), ('un', 'DI', 'O'), ('300', 'Z', 'O'), ('por', 'SP', 'O'), ('ciento', 'PN', 'O'), ('en', 'SP', 'O'), ('el', 'DA', 'O'), ('primer', 'AO', 'O'), ('trimestre', 'NC', 'O'), ('de', 'SP', 'O'), ('este', 'DD', 'O'), ('año', 'NC', 'O'), ('con', 'SP', 'O'), ('respecto', 'NC', 'O'), ('al', 'SP', 'O'), ('mismo', 'DI', 'O'), ('período', 'NC', 'O'), ('de', 'SP', 'O'), ('1999', 'Z', 'O'), (',', 'Fc', 'O'), ('aseguró', 'VMI', 'O'), ('hoy', 'RG', 'O'), ('Iñigo', 'AQ', 'B-PER'), ('García', 'NC', 'I-PER'), ('Aranda', 'AQ', 'I-PER'), (',', 'Fc', 'O'), ('responsable', 'AQ', 'O'), ('de', 'SP', 'O'), ('comunicación', 'NC', 'O'), ('de', 'SP', 'O'), ('Savia', 'NC', 'B-ORG'), ('Amadeus', 'AQ', 'I-ORG'), ('.', 'Fp', 'O')]]\n"
     ]
    }
   ],
   "source": [
    "train_sents = list(nltk.corpus.conll2002.iob_sents('esp.train'))\n",
    "test_sents = list(nltk.corpus.conll2002.iob_sents('esp.testb'))\n",
    "\n",
    "print(test_sents[:3])"
   ]
  },
  {
   "cell_type": "code",
   "execution_count": 3,
   "metadata": {},
   "outputs": [],
   "source": [
    "def word2features(sent, i):\n",
    "    word = sent[i][0]\n",
    "    postag = sent[i][1]\n",
    "\n",
    "    features = {\n",
    "            'bias': 1.0,\n",
    "            'word.lower()': word.lower(),\n",
    "            'word[-3:]': word[-3:],\n",
    "            'word[-2:]': word[-2:],\n",
    "            'word.isupper()': word.isupper(),\n",
    "            'word.istitle()': word.istitle(),\n",
    "            'word.isdigit()': word.isdigit(),\n",
    "            'postag': postag,\n",
    "            'postag[:2]': postag[:2],\n",
    "        }\n",
    "    if i > 0:\n",
    "        word1 = sent[i-1][0]\n",
    "        postag1 = sent[i-1][1]\n",
    "        features.update({\n",
    "            '-1:word.lower()': word1.lower(),\n",
    "            '-1:word.istitle()': word1.istitle(),\n",
    "            '-1:word.isupper()': word1.isupper(),\n",
    "            '-1:postag': postag1,\n",
    "            '-1:postag[:2]': postag1[:2],\n",
    "        })\n",
    "    else:\n",
    "        features['BOS'] = True\n",
    "\n",
    "    if i < len(sent)-1:\n",
    "            word1 = sent[i+1][0]\n",
    "            postag1 = sent[i+1][1]\n",
    "            features.update({\n",
    "                '+1:word.lower()': word1.lower(),\n",
    "                '+1:word.istitle()': word1.istitle(),\n",
    "                '+1:word.isupper()': word1.isupper(),\n",
    "                '+1:postag': postag1,\n",
    "                '+1:postag[:2]': postag1[:2],\n",
    "            })\n",
    "    else:\n",
    "        features['EOS'] = True\n",
    "\n",
    "    return features\n",
    "\n",
    "def sent2features(sent):\n",
    "    return [word2features(sent, i) for i in range(len(sent))]\n",
    "\n",
    "def sent2labels(sent):\n",
    "    return [label for token, postag, label in sent]\n",
    "\n",
    "def sent2tokens(sent):\n",
    "    return [token for token, postag, label in sent]"
   ]
  },
  {
   "cell_type": "markdown",
   "metadata": {},
   "source": [
    "ลองทดสอบกับข้อความประโยคแรก"
   ]
  },
  {
   "cell_type": "code",
   "execution_count": 4,
   "metadata": {},
   "outputs": [
    {
     "name": "stdout",
     "output_type": "stream",
     "text": [
      "{\n",
      "  \"bias\": 1.0,\n",
      "  \"word.lower()\": \"melbourne\",\n",
      "  \"word[-3:]\": \"rne\",\n",
      "  \"word[-2:]\": \"ne\",\n",
      "  \"word.isupper()\": false,\n",
      "  \"word.istitle()\": true,\n",
      "  \"word.isdigit()\": false,\n",
      "  \"postag\": \"NP\",\n",
      "  \"postag[:2]\": \"NP\",\n",
      "  \"BOS\": true,\n",
      "  \"+1:word.lower()\": \"(\",\n",
      "  \"+1:word.istitle()\": false,\n",
      "  \"+1:word.isupper()\": false,\n",
      "  \"+1:postag\": \"Fpa\",\n",
      "  \"+1:postag[:2]\": \"Fp\"\n",
      "}\n"
     ]
    }
   ],
   "source": [
    "import json\n",
    "\n",
    "print(json.dumps(sent2features(train_sents[0])[0], indent=2))"
   ]
  },
  {
   "cell_type": "markdown",
   "metadata": {},
   "source": [
    "ต่อไปเราจะ extract features ข้อมูลทั้งหมด"
   ]
  },
  {
   "cell_type": "code",
   "execution_count": 5,
   "metadata": {},
   "outputs": [],
   "source": [
    "X_train = [sent2features(s) for s in train_sents]\n",
    "y_train = [sent2labels(s) for s in train_sents]\n",
    "\n",
    "X_test = [sent2features(s) for s in test_sents]\n",
    "y_test = [sent2labels(s) for s in test_sents]"
   ]
  },
  {
   "cell_type": "markdown",
   "metadata": {},
   "source": [
    "เริ่ม train กันเลย เราใช้ algorithm L-BFGS กับ Elastic Net (L1+L2) regularization"
   ]
  },
  {
   "cell_type": "code",
   "execution_count": 14,
   "metadata": {
    "scrolled": true
   },
   "outputs": [
    {
     "name": "stdout",
     "output_type": "stream",
     "text": [
      "Fitting 3 folds for each of 50 candidates, totalling 150 fits\n"
     ]
    },
    {
     "name": "stderr",
     "output_type": "stream",
     "text": [
      "[Parallel(n_jobs=-1)]: Done  38 tasks      | elapsed:  3.0min\n",
      "[Parallel(n_jobs=-1)]: Done 150 out of 150 | elapsed: 11.3min finished\n"
     ]
    },
    {
     "name": "stdout",
     "output_type": "stream",
     "text": [
      "best params: {'c1': 0.15929842918468004, 'c2': 0.02277912266999813}\n",
      "best CV score: 0.7493753472309697\n",
      "model size: 1.20M\n"
     ]
    }
   ],
   "source": [
    "import scipy\n",
    "from sklearn.metrics import make_scorer\n",
    "from sklearn.model_selection import RandomizedSearchCV\n",
    "\n",
    "# define fixed parameters and parameters to search\n",
    "crf = sklearn_crfsuite.CRF(\n",
    "    algorithm='lbfgs',\n",
    "    max_iterations=100,\n",
    "    all_possible_transitions=True\n",
    ")\n",
    "params_space = {\n",
    "    'c1': scipy.stats.expon(scale=0.5),\n",
    "    'c2': scipy.stats.expon(scale=0.05),\n",
    "}\n",
    "\n",
    "# use the same metric for evaluation\n",
    "f1_scorer = make_scorer(metrics.flat_f1_score,\n",
    "                        average='weighted', labels=labels)\n",
    "\n",
    "# search\n",
    "rs = RandomizedSearchCV(crf, params_space,\n",
    "                        cv=3,\n",
    "                        verbose=1,\n",
    "                        n_jobs=-1,\n",
    "                        n_iter=50,\n",
    "                        scoring=f1_scorer)\n",
    "rs.fit(X_train, y_train)\n",
    "\n",
    "# crf = rs.best_estimator_\n",
    "print('best params:', rs.best_params_)\n",
    "print('best CV score:', rs.best_score_)\n",
    "print('model size: {:0.2f}M'.format(rs.best_estimator_.size_ / 1000000))"
   ]
  },
  {
   "cell_type": "markdown",
   "metadata": {},
   "source": [
    "การ evaluation ผลโมเดล เนื่องจากเราต้องประเมินทุก label ยกเว้น O แล้วคำนวณ F1 score และดูรายละเอียดทั้งหมดจาก classification report\n"
   ]
  },
  {
   "cell_type": "code",
   "execution_count": 15,
   "metadata": {},
   "outputs": [
    {
     "name": "stdout",
     "output_type": "stream",
     "text": [
      "['B-LOC', 'B-ORG', 'B-PER', 'I-PER', 'B-MISC', 'I-ORG', 'I-LOC', 'I-MISC']\n",
      "0.7973682955279361\n",
      "             precision    recall  f1-score   support\n",
      "\n",
      "      B-LOC      0.807     0.785     0.796      1084\n",
      "      I-LOC      0.686     0.646     0.666       325\n",
      "     B-MISC      0.739     0.552     0.632       339\n",
      "     I-MISC      0.715     0.576     0.638       557\n",
      "      B-ORG      0.809     0.837     0.823      1400\n",
      "      I-ORG      0.849     0.797     0.822      1104\n",
      "      B-PER      0.843     0.886     0.864       735\n",
      "      I-PER      0.897     0.943     0.919       634\n",
      "\n",
      "avg / total      0.810     0.788     0.797      6178\n",
      "\n"
     ]
    }
   ],
   "source": [
    "from sklearn_crfsuite import metrics\n",
    "\n",
    "# ใช้ parameters ที่ดีที่สุด\n",
    "crf = rs.best_estimator_\n",
    "\n",
    "labels = list(crf.classes_)\n",
    "labels.remove('O')\n",
    "print(labels)\n",
    "\n",
    "#F1 score\n",
    "y_pred = crf.predict(X_test)\n",
    "print(metrics.flat_f1_score(y_test, y_pred, average='weighted', labels=labels))\n",
    "\n",
    "#group B and I results\n",
    "#classification report\n",
    "sorted_labels = sorted(\n",
    "    labels,\n",
    "    key=lambda name: (name[1:], name[0])\n",
    ")\n",
    "print(metrics.flat_classification_report(\n",
    "    y_test, y_pred, labels=sorted_labels, digits=3\n",
    "))"
   ]
  }
 ],
 "metadata": {
  "kernelspec": {
   "display_name": "Python 3",
   "language": "python",
   "name": "python3"
  },
  "language_info": {
   "codemirror_mode": {
    "name": "ipython",
    "version": 3
   },
   "file_extension": ".py",
   "mimetype": "text/x-python",
   "name": "python",
   "nbconvert_exporter": "python",
   "pygments_lexer": "ipython3",
   "version": "3.6.5"
  }
 },
 "nbformat": 4,
 "nbformat_minor": 2
}
